{
 "cells": [
  {
   "cell_type": "code",
   "execution_count": 5,
   "id": "e2aa9857",
   "metadata": {},
   "outputs": [],
   "source": [
    "import random\n",
    "import numpy as np\n",
    "import matplotlib as plt\n",
    "import glob as glob"
   ]
  },
  {
   "cell_type": "code",
   "execution_count": 6,
   "id": "0e3ac71d",
   "metadata": {},
   "outputs": [
    {
     "data": {
      "text/plain": [
       "0.9088199010428454"
      ]
     },
     "execution_count": 6,
     "metadata": {},
     "output_type": "execute_result"
    }
   ],
   "source": [
    "random.random()"
   ]
  },
  {
   "cell_type": "code",
   "execution_count": null,
   "id": "303c75b9",
   "metadata": {},
   "outputs": [],
   "source": []
  },
  {
   "cell_type": "code",
   "execution_count": 7,
   "id": "403da0dd",
   "metadata": {},
   "outputs": [
    {
     "data": {
      "text/plain": [
       "4"
      ]
     },
     "execution_count": 7,
     "metadata": {},
     "output_type": "execute_result"
    }
   ],
   "source": [
    "random.randint(-90, 90)"
   ]
  },
  {
   "cell_type": "code",
   "execution_count": 8,
   "id": "a24bb23a",
   "metadata": {},
   "outputs": [],
   "source": [
    "\n",
    "x = 1\n",
    "latitudes = []\n",
    "while x < 11:\n",
    "    random_lat = random.randint(-90, 89) + random.random()\n",
    "    latitudes.append(random_lat)\n",
    "    x += 1"
   ]
  },
  {
   "cell_type": "code",
   "execution_count": 9,
   "id": "bc178926",
   "metadata": {},
   "outputs": [
    {
     "name": "stdout",
     "output_type": "stream",
     "text": [
      "[70.16341448871167, -9.545203956696888, 89.09160759316443, 89.83931911985917, -33.21963265687808, -29.96573189820468, -80.43298767869882, 55.05021191459649, -20.876193429079898, -10.996858359556128]\n"
     ]
    }
   ],
   "source": [
    "print(latitudes)\n"
   ]
  },
  {
   "cell_type": "code",
   "execution_count": 10,
   "id": "f85082c7",
   "metadata": {},
   "outputs": [
    {
     "data": {
      "text/plain": [
       "-31"
      ]
     },
     "execution_count": 10,
     "metadata": {},
     "output_type": "execute_result"
    }
   ],
   "source": [
    "random.randrange(-90,90,step=1)"
   ]
  },
  {
   "cell_type": "code",
   "execution_count": 11,
   "id": "53635a6f",
   "metadata": {},
   "outputs": [
    {
     "data": {
      "text/plain": [
       "-9"
      ]
     },
     "execution_count": 11,
     "metadata": {},
     "output_type": "execute_result"
    }
   ],
   "source": [
    "random.randrange(-90,90,step=3)"
   ]
  },
  {
   "cell_type": "raw",
   "id": "8bf99f89",
   "metadata": {},
   "source": [
    "np.random.uniform(-90, 90)"
   ]
  },
  {
   "cell_type": "raw",
   "id": "8fc93e15",
   "metadata": {},
   "source": [
    "np.random.uniform(-90.000, 90.000)"
   ]
  },
  {
   "cell_type": "code",
   "execution_count": 13,
   "id": "9a043640",
   "metadata": {},
   "outputs": [
    {
     "data": {
      "text/plain": [
       "3.314305901434892"
      ]
     },
     "execution_count": 13,
     "metadata": {},
     "output_type": "execute_result"
    }
   ],
   "source": [
    "np.random.uniform(low=-90, high=90)"
   ]
  },
  {
   "cell_type": "code",
   "execution_count": 14,
   "id": "da4ad681",
   "metadata": {},
   "outputs": [
    {
     "data": {
      "text/plain": [
       "array([ 40.84074609,  60.60094879,  24.02385347, -83.52910304,\n",
       "        60.23569626,  77.70913309, -32.31193975, -14.35567504,\n",
       "        54.80962445,  38.89233135,  -5.38033214,  28.92150874,\n",
       "        69.87249902,  43.70165703, -48.80453434,  12.19525124,\n",
       "       -24.19594163, -85.40969003,  82.98592278, -60.08005587,\n",
       "       -42.19974504, -27.54427437, -20.11837244,  76.75230239,\n",
       "        42.97562089, -88.00304446, -52.73919146, -75.90619715,\n",
       "         6.61368696, -87.52497803,  64.30588725, -41.73720801,\n",
       "       -54.92577952,  28.71573112,  30.76722875, -87.20438609,\n",
       "        49.31191897,  73.56287329, -11.98551764,   6.35433529,\n",
       "        53.18906019, -51.74000934,  51.32309304, -48.6441198 ,\n",
       "        35.15516366, -66.83160289, -26.05055664,  77.55362164,\n",
       "       -88.98598865, -55.59597947])"
      ]
     },
     "execution_count": 14,
     "metadata": {},
     "output_type": "execute_result"
    }
   ],
   "source": [
    "np.random.uniform(-90.000, 90.000, size=50)"
   ]
  },
  {
   "cell_type": "code",
   "execution_count": 15,
   "id": "1eb96572",
   "metadata": {},
   "outputs": [],
   "source": [
    "# Import timeit.\n",
    "import timeit"
   ]
  },
  {
   "cell_type": "code",
   "execution_count": 16,
   "id": "fdf2ee0b",
   "metadata": {},
   "outputs": [
    {
     "name": "stdout",
     "output_type": "stream",
     "text": [
      "13.1 µs ± 140 ns per loop (mean ± std. dev. of 7 runs, 100000 loops each)\n"
     ]
    }
   ],
   "source": [
    "%timeit np.random.uniform(-90.000, 90.000, size=1500)"
   ]
  },
  {
   "cell_type": "code",
   "execution_count": 17,
   "id": "fe073ce9",
   "metadata": {},
   "outputs": [
    {
     "name": "stdout",
     "output_type": "stream",
     "text": [
      "1.75 ms ± 38 µs per loop (mean ± std. dev. of 7 runs, 1000 loops each)\n"
     ]
    }
   ],
   "source": [
    "def latitudes(size):\n",
    "    latitudes = []\n",
    "    x = 0\n",
    "    while x < (size):\n",
    "        random_lat = random.randint(-90, 90) + random.random()\n",
    "        latitudes.append(random_lat)\n",
    "        x += 1\n",
    "    return latitudes\n",
    "# Call the function with 1500.\n",
    "%timeit latitudes(1500)"
   ]
  },
  {
   "cell_type": "code",
   "execution_count": null,
   "id": "22b8dcbe",
   "metadata": {},
   "outputs": [],
   "source": [
    "# Import the dependencies.\n",
    "import pandas as pd\n",
    "import matplotlib.pyplot as plt\n",
    "import numpy as np"
   ]
  },
  {
   "cell_type": "code",
   "execution_count": null,
   "id": "664cbffb",
   "metadata": {},
   "outputs": [],
   "source": []
  }
 ],
 "metadata": {
  "kernelspec": {
   "display_name": "PythonData",
   "language": "python",
   "name": "pythondata"
  },
  "language_info": {
   "codemirror_mode": {
    "name": "ipython",
    "version": 3
   },
   "file_extension": ".py",
   "mimetype": "text/x-python",
   "name": "python",
   "nbconvert_exporter": "python",
   "pygments_lexer": "ipython3",
   "version": "3.7.11"
  }
 },
 "nbformat": 4,
 "nbformat_minor": 5
}
